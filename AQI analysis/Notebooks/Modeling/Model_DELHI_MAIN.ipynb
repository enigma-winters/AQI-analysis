{
 "cells": [
  {
   "cell_type": "markdown",
   "metadata": {},
   "source": [
    "<h2></h2>\n",
    "\n",
    "\n",
    "<h1><center><u>MAJOR PROJECT</u></center></h1>\n",
    "<h2><center><u>AIR POLLUTION IN INDIA</u></center></h2>\n",
    "<h2><center><u>NOTEBOOK USED FOR MODELING</u></center></h2>\n",
    "<h2 style=\"text-align:right\">Submitted By:</h2>\n",
    "<h2 style=\"text-align:right\">-</h2>\n",
    "<h2 style=\"text-align:right\">-</h2>"
   ]
  },
  {
   "cell_type": "markdown",
   "metadata": {},
   "source": [
    "<h4>Include the libraries that we are going to use</h4>"
   ]
  },
  {
   "cell_type": "code",
   "execution_count": 1,
   "metadata": {},
   "outputs": [],
   "source": [
    "import pandas as pd\n",
    "import matplotlib.pyplot as plt\n",
    "from statsmodels.tsa.seasonal import seasonal_decompose\n",
    "import seaborn as sns\n",
    "from numpy import log\n",
    "from statsmodels.tsa.stattools import adfuller\n",
    "import sys\n",
    "from pandas.plotting import lag_plot\n",
    "import numpy as np\n",
    "import numpy as np\n",
    "from datetime import datetime\n",
    "from datetime import timedelta\n",
    "from pandas.plotting import register_matplotlib_converters\n",
    "from statsmodels.tsa.stattools import acf, pacf\n",
    "from statsmodels.tsa.statespace.sarimax import SARIMAX\n",
    "register_matplotlib_converters()\n",
    "from time import time"
   ]
  },
  {
   "cell_type": "code",
   "execution_count": 2,
   "metadata": {},
   "outputs": [],
   "source": [
    "df = pd.read_csv('final.csv', index_col=0)#load the data from csv named final.csv"
   ]
  },
  {
   "cell_type": "code",
   "execution_count": 3,
   "metadata": {},
   "outputs": [
    {
     "data": {
      "text/html": [
       "<div>\n",
       "<style scoped>\n",
       "    .dataframe tbody tr th:only-of-type {\n",
       "        vertical-align: middle;\n",
       "    }\n",
       "\n",
       "    .dataframe tbody tr th {\n",
       "        vertical-align: top;\n",
       "    }\n",
       "\n",
       "    .dataframe thead th {\n",
       "        text-align: right;\n",
       "    }\n",
       "</style>\n",
       "<table border=\"1\" class=\"dataframe\">\n",
       "  <thead>\n",
       "    <tr style=\"text-align: right;\">\n",
       "      <th></th>\n",
       "      <th>City</th>\n",
       "      <th>Coordinates</th>\n",
       "      <th>Time</th>\n",
       "      <th>PM10_min</th>\n",
       "      <th>PM10_max</th>\n",
       "      <th>PM10_avg</th>\n",
       "      <th>PM2.5_min</th>\n",
       "      <th>PM2.5_max</th>\n",
       "      <th>PM2.5_avg</th>\n",
       "      <th>NO2_min</th>\n",
       "      <th>...</th>\n",
       "      <th>NH3_avg</th>\n",
       "      <th>SO2_min</th>\n",
       "      <th>SO2_max</th>\n",
       "      <th>SO2_avg</th>\n",
       "      <th>CO_min</th>\n",
       "      <th>CO_max</th>\n",
       "      <th>CO_avg</th>\n",
       "      <th>OZONE_min</th>\n",
       "      <th>OZONE_max</th>\n",
       "      <th>OZONE_avg</th>\n",
       "    </tr>\n",
       "  </thead>\n",
       "  <tbody>\n",
       "    <tr>\n",
       "      <th>0</th>\n",
       "      <td>Yamunanagar</td>\n",
       "      <td>[30.2112003, 77.28638972360895]</td>\n",
       "      <td>2020-09-22 14:00:00</td>\n",
       "      <td>78.0</td>\n",
       "      <td>170.0</td>\n",
       "      <td>121.0</td>\n",
       "      <td>59.0</td>\n",
       "      <td>239.0</td>\n",
       "      <td>134.0</td>\n",
       "      <td>14.0</td>\n",
       "      <td>...</td>\n",
       "      <td>5.0</td>\n",
       "      <td>3.0</td>\n",
       "      <td>7.0</td>\n",
       "      <td>6.0</td>\n",
       "      <td>19.0</td>\n",
       "      <td>74.0</td>\n",
       "      <td>22.0</td>\n",
       "      <td>10.0</td>\n",
       "      <td>122.0</td>\n",
       "      <td>32.0</td>\n",
       "    </tr>\n",
       "    <tr>\n",
       "      <th>1</th>\n",
       "      <td>Karnal</td>\n",
       "      <td>[29.6803266, 76.9896254]</td>\n",
       "      <td>2020-09-22 14:00:00</td>\n",
       "      <td>64.0</td>\n",
       "      <td>113.0</td>\n",
       "      <td>91.0</td>\n",
       "      <td>42.0</td>\n",
       "      <td>227.0</td>\n",
       "      <td>111.0</td>\n",
       "      <td>1.0</td>\n",
       "      <td>...</td>\n",
       "      <td>3.0</td>\n",
       "      <td>5.0</td>\n",
       "      <td>109.0</td>\n",
       "      <td>13.0</td>\n",
       "      <td>16.0</td>\n",
       "      <td>44.0</td>\n",
       "      <td>19.0</td>\n",
       "      <td>4.0</td>\n",
       "      <td>43.0</td>\n",
       "      <td>13.0</td>\n",
       "    </tr>\n",
       "    <tr>\n",
       "      <th>2</th>\n",
       "      <td>Ahmedabad</td>\n",
       "      <td>[23.0216238, 72.5797068]</td>\n",
       "      <td>2020-09-22 14:00:00</td>\n",
       "      <td>57.0</td>\n",
       "      <td>93.0</td>\n",
       "      <td>69.0</td>\n",
       "      <td>13.0</td>\n",
       "      <td>89.0</td>\n",
       "      <td>48.0</td>\n",
       "      <td>23.0</td>\n",
       "      <td>...</td>\n",
       "      <td>NaN</td>\n",
       "      <td>4.0</td>\n",
       "      <td>121.0</td>\n",
       "      <td>28.0</td>\n",
       "      <td>10.0</td>\n",
       "      <td>77.0</td>\n",
       "      <td>37.0</td>\n",
       "      <td>4.0</td>\n",
       "      <td>127.0</td>\n",
       "      <td>52.0</td>\n",
       "    </tr>\n",
       "    <tr>\n",
       "      <th>3</th>\n",
       "      <td>Ajmer</td>\n",
       "      <td>[26.4691, 74.639]</td>\n",
       "      <td>2020-09-22 14:00:00</td>\n",
       "      <td>44.0</td>\n",
       "      <td>114.0</td>\n",
       "      <td>80.0</td>\n",
       "      <td>29.0</td>\n",
       "      <td>147.0</td>\n",
       "      <td>65.0</td>\n",
       "      <td>9.0</td>\n",
       "      <td>...</td>\n",
       "      <td>5.0</td>\n",
       "      <td>9.0</td>\n",
       "      <td>12.0</td>\n",
       "      <td>11.0</td>\n",
       "      <td>24.0</td>\n",
       "      <td>82.0</td>\n",
       "      <td>42.0</td>\n",
       "      <td>6.0</td>\n",
       "      <td>83.0</td>\n",
       "      <td>61.0</td>\n",
       "    </tr>\n",
       "    <tr>\n",
       "      <th>4</th>\n",
       "      <td>Alwar</td>\n",
       "      <td>[27.639077049999997, 76.6144524902045]</td>\n",
       "      <td>2020-09-22 14:00:00</td>\n",
       "      <td>68.0</td>\n",
       "      <td>95.0</td>\n",
       "      <td>81.0</td>\n",
       "      <td>60.0</td>\n",
       "      <td>81.0</td>\n",
       "      <td>71.0</td>\n",
       "      <td>13.0</td>\n",
       "      <td>...</td>\n",
       "      <td>4.0</td>\n",
       "      <td>3.0</td>\n",
       "      <td>29.0</td>\n",
       "      <td>19.0</td>\n",
       "      <td>15.0</td>\n",
       "      <td>40.0</td>\n",
       "      <td>26.0</td>\n",
       "      <td>5.0</td>\n",
       "      <td>84.0</td>\n",
       "      <td>28.0</td>\n",
       "    </tr>\n",
       "  </tbody>\n",
       "</table>\n",
       "<p>5 rows × 24 columns</p>\n",
       "</div>"
      ],
      "text/plain": [
       "          City                             Coordinates                 Time  \\\n",
       "0  Yamunanagar         [30.2112003, 77.28638972360895]  2020-09-22 14:00:00   \n",
       "1       Karnal                [29.6803266, 76.9896254]  2020-09-22 14:00:00   \n",
       "2    Ahmedabad                [23.0216238, 72.5797068]  2020-09-22 14:00:00   \n",
       "3        Ajmer                       [26.4691, 74.639]  2020-09-22 14:00:00   \n",
       "4        Alwar  [27.639077049999997, 76.6144524902045]  2020-09-22 14:00:00   \n",
       "\n",
       "   PM10_min  PM10_max  PM10_avg  PM2.5_min  PM2.5_max  PM2.5_avg  NO2_min  \\\n",
       "0      78.0     170.0     121.0       59.0      239.0      134.0     14.0   \n",
       "1      64.0     113.0      91.0       42.0      227.0      111.0      1.0   \n",
       "2      57.0      93.0      69.0       13.0       89.0       48.0     23.0   \n",
       "3      44.0     114.0      80.0       29.0      147.0       65.0      9.0   \n",
       "4      68.0      95.0      81.0       60.0       81.0       71.0     13.0   \n",
       "\n",
       "   ...  NH3_avg  SO2_min  SO2_max  SO2_avg  CO_min  CO_max  CO_avg  OZONE_min  \\\n",
       "0  ...      5.0      3.0      7.0      6.0    19.0    74.0    22.0       10.0   \n",
       "1  ...      3.0      5.0    109.0     13.0    16.0    44.0    19.0        4.0   \n",
       "2  ...      NaN      4.0    121.0     28.0    10.0    77.0    37.0        4.0   \n",
       "3  ...      5.0      9.0     12.0     11.0    24.0    82.0    42.0        6.0   \n",
       "4  ...      4.0      3.0     29.0     19.0    15.0    40.0    26.0        5.0   \n",
       "\n",
       "   OZONE_max  OZONE_avg  \n",
       "0      122.0       32.0  \n",
       "1       43.0       13.0  \n",
       "2      127.0       52.0  \n",
       "3       83.0       61.0  \n",
       "4       84.0       28.0  \n",
       "\n",
       "[5 rows x 24 columns]"
      ]
     },
     "execution_count": 3,
     "metadata": {},
     "output_type": "execute_result"
    }
   ],
   "source": [
    "df.head()"
   ]
  },
  {
   "cell_type": "markdown",
   "metadata": {},
   "source": [
    "## DELHI\n"
   ]
  },
  {
   "cell_type": "code",
   "execution_count": 4,
   "metadata": {},
   "outputs": [],
   "source": [
    "tdf = df[df['City']=='Delhi']#lets take the target city as delhi first then we will look at models for other cities"
   ]
  },
  {
   "cell_type": "code",
   "execution_count": 5,
   "metadata": {},
   "outputs": [
    {
     "data": {
      "text/plain": [
       "Index(['City', 'Coordinates', 'Time', 'PM10_min', 'PM10_max', 'PM10_avg',\n",
       "       'PM2.5_min', 'PM2.5_max', 'PM2.5_avg', 'NO2_min', 'NO2_max', 'NO2_avg',\n",
       "       'NH3_min', 'NH3_max', 'NH3_avg', 'SO2_min', 'SO2_max', 'SO2_avg',\n",
       "       'CO_min', 'CO_max', 'CO_avg', 'OZONE_min', 'OZONE_max', 'OZONE_avg'],\n",
       "      dtype='object')"
      ]
     },
     "execution_count": 5,
     "metadata": {},
     "output_type": "execute_result"
    }
   ],
   "source": [
    "tdf.columns#remove these columns as our main focus is on PM2.5_avg we drop others columns for now"
   ]
  },
  {
   "cell_type": "markdown",
   "metadata": {},
   "source": [
    "#### After dropping these columns we set date as index and make a univariate time series"
   ]
  },
  {
   "cell_type": "code",
   "execution_count": 6,
   "metadata": {},
   "outputs": [],
   "source": [
    "drop_columns=['PM10_min', 'PM10_max', 'PM10_avg', 'PM2.5_min', 'PM2.5_max'\n",
    "       , 'NO2_min', 'NO2_max', 'NO2_avg', 'NH3_min', 'NH3_max',\n",
    "       'NH3_avg', 'SO2_min', 'SO2_max', 'SO2_avg', 'CO_min', 'CO_max',\n",
    "       'CO_avg', 'OZONE_min', 'OZONE_max', 'OZONE_avg', 'Coordinates']"
   ]
  },
  {
   "cell_type": "code",
   "execution_count": 7,
   "metadata": {},
   "outputs": [
    {
     "name": "stderr",
     "output_type": "stream",
     "text": [
      "C:\\Users\\pratham\\AppData\\Roaming\\Python\\Python38\\site-packages\\pandas\\core\\frame.py:4167: SettingWithCopyWarning: \n",
      "A value is trying to be set on a copy of a slice from a DataFrame\n",
      "\n",
      "See the caveats in the documentation: https://pandas.pydata.org/pandas-docs/stable/user_guide/indexing.html#returning-a-view-versus-a-copy\n",
      "  return super().drop(\n"
     ]
    }
   ],
   "source": [
    "tdf.drop(columns=drop_columns,axis=1,inplace=True)"
   ]
  },
  {
   "cell_type": "code",
   "execution_count": 8,
   "metadata": {},
   "outputs": [],
   "source": [
    "tdf.drop(columns='City',axis=1,inplace=True)"
   ]
  },
  {
   "cell_type": "code",
   "execution_count": 9,
   "metadata": {},
   "outputs": [
    {
     "name": "stderr",
     "output_type": "stream",
     "text": [
      "<ipython-input-9-5eff9ba739b2>:1: SettingWithCopyWarning: \n",
      "A value is trying to be set on a copy of a slice from a DataFrame.\n",
      "Try using .loc[row_indexer,col_indexer] = value instead\n",
      "\n",
      "See the caveats in the documentation: https://pandas.pydata.org/pandas-docs/stable/user_guide/indexing.html#returning-a-view-versus-a-copy\n",
      "  tdf['Time']= pd.to_datetime(tdf['Time'],dayfirst=True)\n"
     ]
    },
    {
     "data": {
      "text/plain": [
       "PM2.5_avg    float64\n",
       "dtype: object"
      ]
     },
     "execution_count": 9,
     "metadata": {},
     "output_type": "execute_result"
    }
   ],
   "source": [
    "tdf['Time']= pd.to_datetime(tdf['Time'],dayfirst=True)\n",
    "# Set the index to the 'date' column\n",
    "tdf.set_index('Time', inplace = True)\n",
    "tdf.dtypes"
   ]
  },
  {
   "cell_type": "code",
   "execution_count": 10,
   "metadata": {},
   "outputs": [
    {
     "data": {
      "text/html": [
       "<div>\n",
       "<style scoped>\n",
       "    .dataframe tbody tr th:only-of-type {\n",
       "        vertical-align: middle;\n",
       "    }\n",
       "\n",
       "    .dataframe tbody tr th {\n",
       "        vertical-align: top;\n",
       "    }\n",
       "\n",
       "    .dataframe thead th {\n",
       "        text-align: right;\n",
       "    }\n",
       "</style>\n",
       "<table border=\"1\" class=\"dataframe\">\n",
       "  <thead>\n",
       "    <tr style=\"text-align: right;\">\n",
       "      <th></th>\n",
       "      <th>PM2.5_avg</th>\n",
       "    </tr>\n",
       "    <tr>\n",
       "      <th>Time</th>\n",
       "      <th></th>\n",
       "    </tr>\n",
       "  </thead>\n",
       "  <tbody>\n",
       "    <tr>\n",
       "      <th>2020-09-22 14:00:00</th>\n",
       "      <td>96.823529</td>\n",
       "    </tr>\n",
       "    <tr>\n",
       "      <th>2020-09-22 16:00:00</th>\n",
       "      <td>90.558824</td>\n",
       "    </tr>\n",
       "    <tr>\n",
       "      <th>2020-09-22 19:00:00</th>\n",
       "      <td>81.400000</td>\n",
       "    </tr>\n",
       "    <tr>\n",
       "      <th>2020-09-22 22:00:00</th>\n",
       "      <td>73.914286</td>\n",
       "    </tr>\n",
       "    <tr>\n",
       "      <th>2020-09-23 04:00:00</th>\n",
       "      <td>59.057143</td>\n",
       "    </tr>\n",
       "    <tr>\n",
       "      <th>...</th>\n",
       "      <td>...</td>\n",
       "    </tr>\n",
       "    <tr>\n",
       "      <th>2020-10-21 17:00:00</th>\n",
       "      <td>242.161290</td>\n",
       "    </tr>\n",
       "    <tr>\n",
       "      <th>2020-10-21 18:00:00</th>\n",
       "      <td>239.300000</td>\n",
       "    </tr>\n",
       "    <tr>\n",
       "      <th>2020-10-21 19:00:00</th>\n",
       "      <td>238.633333</td>\n",
       "    </tr>\n",
       "    <tr>\n",
       "      <th>2020-10-21 20:00:00</th>\n",
       "      <td>238.266667</td>\n",
       "    </tr>\n",
       "    <tr>\n",
       "      <th>2020-10-21 22:00:00</th>\n",
       "      <td>238.433333</td>\n",
       "    </tr>\n",
       "  </tbody>\n",
       "</table>\n",
       "<p>300 rows × 1 columns</p>\n",
       "</div>"
      ],
      "text/plain": [
       "                      PM2.5_avg\n",
       "Time                           \n",
       "2020-09-22 14:00:00   96.823529\n",
       "2020-09-22 16:00:00   90.558824\n",
       "2020-09-22 19:00:00   81.400000\n",
       "2020-09-22 22:00:00   73.914286\n",
       "2020-09-23 04:00:00   59.057143\n",
       "...                         ...\n",
       "2020-10-21 17:00:00  242.161290\n",
       "2020-10-21 18:00:00  239.300000\n",
       "2020-10-21 19:00:00  238.633333\n",
       "2020-10-21 20:00:00  238.266667\n",
       "2020-10-21 22:00:00  238.433333\n",
       "\n",
       "[300 rows x 1 columns]"
      ]
     },
     "execution_count": 10,
     "metadata": {},
     "output_type": "execute_result"
    }
   ],
   "source": [
    "tdf##Final time series"
   ]
  },
  {
   "cell_type": "code",
   "execution_count": 11,
   "metadata": {},
   "outputs": [],
   "source": [
    "b=tdf.resample('12H').mean()"
   ]
  },
  {
   "cell_type": "code",
   "execution_count": 12,
   "metadata": {},
   "outputs": [],
   "source": [
    "b=b.interpolate()"
   ]
  },
  {
   "cell_type": "code",
   "execution_count": 13,
   "metadata": {},
   "outputs": [
    {
     "data": {
      "text/plain": [
       "<Figure size 720x720 with 0 Axes>"
      ]
     },
     "metadata": {},
     "output_type": "display_data"
    },
    {
     "data": {
      "image/png": "[encoded data removed]",
      "text/plain": [
       "<Figure size 432x288 with 1 Axes>"
      ]
     },
     "metadata": {
      "needs_background": "light"
     },
     "output_type": "display_data"
    }
   ],
   "source": [
    "plt.figure(figsize=(10, 10))\n",
    "tdf.plot(alpha=0.5, style='-')\n",
    "plt.title('Levels of PM2.5_avg over 1 month', fontsize=20)\n",
    "plt.ylabel('PM2.5_avg',fontsize=20)\n",
    "plt.xlabel('Date',fontsize=20)\n",
    "plt.show()"
   ]
  },
  {
   "cell_type": "code",
   "execution_count": 14,
   "metadata": {},
   "outputs": [
    {
     "data": {
      "text/plain": [
       "<Figure size 720x720 with 0 Axes>"
      ]
     },
     "metadata": {},
     "output_type": "display_data"
    },
    {
     "data": {
      "image/png": "[encoded data removed]",
      "text/plain": [
       "<Figure size 432x288 with 1 Axes>"
      ]
     },
     "metadata": {
      "needs_background": "light"
     },
     "output_type": "display_data"
    }
   ],
   "source": [
    "plt.figure(figsize=(10, 10))\n",
    "b.plot(alpha=0.5, style='-')\n",
    "plt.title('PM2.5 Level', fontsize=20)\n",
    "plt.ylabel('PM2.5',fontsize=20)\n",
    "plt.xlabel('Date',fontsize=20)\n",
    "plt.show()"
   ]
  },
  {
   "cell_type": "markdown",
   "metadata": {},
   "source": [
    "#### It can be observed from the plot that time series has trend and seasonality so our data is not stationary lets further verify this by performing the AD fuller test and it also confirms the value for the parameter d in ARIMA model"
   ]
  },
  {
   "cell_type": "code",
   "execution_count": 15,
   "metadata": {},
   "outputs": [
    {
     "name": "stdout",
     "output_type": "stream",
     "text": [
      "p-value: 0.473341139756345\n"
     ]
    }
   ],
   "source": [
    "from statsmodels.tsa.stattools import adfuller\n",
    "print(\"p-value:\", adfuller(b['PM2.5_avg'].dropna())[1])"
   ]
  },
  {
   "cell_type": "code",
   "execution_count": 16,
   "metadata": {},
   "outputs": [
    {
     "name": "stdout",
     "output_type": "stream",
     "text": [
      "p-value: 1.0422639955747807e-08\n"
     ]
    }
   ],
   "source": [
    "print(\"p-value:\", adfuller(b['PM2.5_avg'].diff().dropna())[1])"
   ]
  },
  {
   "cell_type": "markdown",
   "metadata": {},
   "source": [
    "## differencing =1 i.e. d=1 in ARIMA d=1\n",
    "\n"
   ]
  },
  {
   "cell_type": "markdown",
   "metadata": {},
   "source": [
    "#### As it can be clearly seen that for d=1 our data passes the AD Fuller test  now lets find out seasonality for the data"
   ]
  },
  {
   "cell_type": "code",
   "execution_count": 17,
   "metadata": {},
   "outputs": [],
   "source": [
    "b['new']=b['PM2.5_avg']#made copy because there was a decimal in PM2.5_avg column name\n",
    "c=b.copy()"
   ]
  },
  {
   "cell_type": "code",
   "execution_count": 18,
   "metadata": {},
   "outputs": [],
   "source": [
    "c.drop(['PM2.5_avg'],axis=1,inplace=True)"
   ]
  },
  {
   "cell_type": "code",
   "execution_count": 19,
   "metadata": {},
   "outputs": [
    {
     "data": {
      "text/plain": [
       "Time\n",
       "2020-09-27   2020-09-26 00:00:00\n",
       "2020-10-04   2020-10-03 12:00:00\n",
       "2020-10-11   2020-10-10 12:00:00\n",
       "2020-10-18   2020-10-15 00:00:00\n",
       "2020-10-25   2020-10-21 00:00:00\n",
       "Freq: W-SUN, Name: new, dtype: datetime64[ns]"
      ]
     },
     "execution_count": 19,
     "metadata": {},
     "output_type": "execute_result"
    }
   ],
   "source": [
    "c.groupby(pd.Grouper(freq=\"W\")).new.idxmax()"
   ]
  },
  {
   "cell_type": "code",
   "execution_count": 20,
   "metadata": {},
   "outputs": [],
   "source": [
    "summary=c.groupby(pd.Grouper(freq=\"W\")).agg(\n",
    "    max_Level = pd.NamedAgg(column='new', aggfunc='max'),\n",
    "    max_Date = pd.NamedAgg(column='new', aggfunc='idxmax'))"
   ]
  },
  {
   "cell_type": "code",
   "execution_count": 21,
   "metadata": {},
   "outputs": [
    {
     "data": {
      "text/plain": [
       "Timedelta('-7 days +00:00:00')"
      ]
     },
     "execution_count": 21,
     "metadata": {},
     "output_type": "execute_result"
    }
   ],
   "source": [
    "summary['max_Date'][1]-summary['max_Date'][2]"
   ]
  },
  {
   "cell_type": "code",
   "execution_count": 22,
   "metadata": {},
   "outputs": [
    {
     "data": {
      "text/html": [
       "<div>\n",
       "<style scoped>\n",
       "    .dataframe tbody tr th:only-of-type {\n",
       "        vertical-align: middle;\n",
       "    }\n",
       "\n",
       "    .dataframe tbody tr th {\n",
       "        vertical-align: top;\n",
       "    }\n",
       "\n",
       "    .dataframe thead th {\n",
       "        text-align: right;\n",
       "    }\n",
       "</style>\n",
       "<table border=\"1\" class=\"dataframe\">\n",
       "  <thead>\n",
       "    <tr style=\"text-align: right;\">\n",
       "      <th></th>\n",
       "      <th>max_Level</th>\n",
       "      <th>max_Date</th>\n",
       "    </tr>\n",
       "    <tr>\n",
       "      <th>Time</th>\n",
       "      <th></th>\n",
       "      <th></th>\n",
       "    </tr>\n",
       "  </thead>\n",
       "  <tbody>\n",
       "    <tr>\n",
       "      <th>2020-09-27</th>\n",
       "      <td>143.436492</td>\n",
       "      <td>2020-09-26 00:00:00</td>\n",
       "    </tr>\n",
       "    <tr>\n",
       "      <th>2020-10-04</th>\n",
       "      <td>172.814516</td>\n",
       "      <td>2020-10-03 12:00:00</td>\n",
       "    </tr>\n",
       "    <tr>\n",
       "      <th>2020-10-11</th>\n",
       "      <td>209.065720</td>\n",
       "      <td>2020-10-10 12:00:00</td>\n",
       "    </tr>\n",
       "    <tr>\n",
       "      <th>2020-10-18</th>\n",
       "      <td>295.706575</td>\n",
       "      <td>2020-10-15 00:00:00</td>\n",
       "    </tr>\n",
       "    <tr>\n",
       "      <th>2020-10-25</th>\n",
       "      <td>250.124180</td>\n",
       "      <td>2020-10-21 00:00:00</td>\n",
       "    </tr>\n",
       "  </tbody>\n",
       "</table>\n",
       "</div>"
      ],
      "text/plain": [
       "             max_Level            max_Date\n",
       "Time                                      \n",
       "2020-09-27  143.436492 2020-09-26 00:00:00\n",
       "2020-10-04  172.814516 2020-10-03 12:00:00\n",
       "2020-10-11  209.065720 2020-10-10 12:00:00\n",
       "2020-10-18  295.706575 2020-10-15 00:00:00\n",
       "2020-10-25  250.124180 2020-10-21 00:00:00"
      ]
     },
     "execution_count": 22,
     "metadata": {},
     "output_type": "execute_result"
    }
   ],
   "source": [
    "summary"
   ]
  },
  {
   "cell_type": "code",
   "execution_count": 23,
   "metadata": {},
   "outputs": [
    {
     "data": {
      "text/html": [
       "<div>\n",
       "<style scoped>\n",
       "    .dataframe tbody tr th:only-of-type {\n",
       "        vertical-align: middle;\n",
       "    }\n",
       "\n",
       "    .dataframe tbody tr th {\n",
       "        vertical-align: top;\n",
       "    }\n",
       "\n",
       "    .dataframe thead th {\n",
       "        text-align: right;\n",
       "    }\n",
       "</style>\n",
       "<table border=\"1\" class=\"dataframe\">\n",
       "  <thead>\n",
       "    <tr style=\"text-align: right;\">\n",
       "      <th></th>\n",
       "      <th>max_Level</th>\n",
       "      <th>max_Date</th>\n",
       "    </tr>\n",
       "    <tr>\n",
       "      <th>Time</th>\n",
       "      <th></th>\n",
       "      <th></th>\n",
       "    </tr>\n",
       "  </thead>\n",
       "  <tbody>\n",
       "    <tr>\n",
       "      <th>2020-09-27</th>\n",
       "      <td>NaN</td>\n",
       "      <td>NaT</td>\n",
       "    </tr>\n",
       "    <tr>\n",
       "      <th>2020-10-04</th>\n",
       "      <td>143.436492</td>\n",
       "      <td>2020-09-26 00:00:00</td>\n",
       "    </tr>\n",
       "    <tr>\n",
       "      <th>2020-10-11</th>\n",
       "      <td>172.814516</td>\n",
       "      <td>2020-10-03 12:00:00</td>\n",
       "    </tr>\n",
       "    <tr>\n",
       "      <th>2020-10-18</th>\n",
       "      <td>209.065720</td>\n",
       "      <td>2020-10-10 12:00:00</td>\n",
       "    </tr>\n",
       "    <tr>\n",
       "      <th>2020-10-25</th>\n",
       "      <td>295.706575</td>\n",
       "      <td>2020-10-15 00:00:00</td>\n",
       "    </tr>\n",
       "  </tbody>\n",
       "</table>\n",
       "</div>"
      ],
      "text/plain": [
       "             max_Level            max_Date\n",
       "Time                                      \n",
       "2020-09-27         NaN                 NaT\n",
       "2020-10-04  143.436492 2020-09-26 00:00:00\n",
       "2020-10-11  172.814516 2020-10-03 12:00:00\n",
       "2020-10-18  209.065720 2020-10-10 12:00:00\n",
       "2020-10-25  295.706575 2020-10-15 00:00:00"
      ]
     },
     "execution_count": 23,
     "metadata": {},
     "output_type": "execute_result"
    }
   ],
   "source": [
    "summary.shift(1)"
   ]
  },
  {
   "cell_type": "code",
   "execution_count": 24,
   "metadata": {},
   "outputs": [
    {
     "data": {
      "text/html": [
       "<div>\n",
       "<style scoped>\n",
       "    .dataframe tbody tr th:only-of-type {\n",
       "        vertical-align: middle;\n",
       "    }\n",
       "\n",
       "    .dataframe tbody tr th {\n",
       "        vertical-align: top;\n",
       "    }\n",
       "\n",
       "    .dataframe thead th {\n",
       "        text-align: right;\n",
       "    }\n",
       "</style>\n",
       "<table border=\"1\" class=\"dataframe\">\n",
       "  <thead>\n",
       "    <tr style=\"text-align: right;\">\n",
       "      <th></th>\n",
       "      <th>max_Level</th>\n",
       "      <th>max_Date</th>\n",
       "    </tr>\n",
       "    <tr>\n",
       "      <th>Time</th>\n",
       "      <th></th>\n",
       "      <th></th>\n",
       "    </tr>\n",
       "  </thead>\n",
       "  <tbody>\n",
       "    <tr>\n",
       "      <th>2020-09-27</th>\n",
       "      <td>NaN</td>\n",
       "      <td>NaT</td>\n",
       "    </tr>\n",
       "    <tr>\n",
       "      <th>2020-10-04</th>\n",
       "      <td>29.378024</td>\n",
       "      <td>7 days 12:00:00</td>\n",
       "    </tr>\n",
       "    <tr>\n",
       "      <th>2020-10-11</th>\n",
       "      <td>36.251204</td>\n",
       "      <td>7 days 00:00:00</td>\n",
       "    </tr>\n",
       "    <tr>\n",
       "      <th>2020-10-18</th>\n",
       "      <td>86.640855</td>\n",
       "      <td>4 days 12:00:00</td>\n",
       "    </tr>\n",
       "    <tr>\n",
       "      <th>2020-10-25</th>\n",
       "      <td>-45.582395</td>\n",
       "      <td>6 days 00:00:00</td>\n",
       "    </tr>\n",
       "  </tbody>\n",
       "</table>\n",
       "</div>"
      ],
      "text/plain": [
       "            max_Level        max_Date\n",
       "Time                                 \n",
       "2020-09-27        NaN             NaT\n",
       "2020-10-04  29.378024 7 days 12:00:00\n",
       "2020-10-11  36.251204 7 days 00:00:00\n",
       "2020-10-18  86.640855 4 days 12:00:00\n",
       "2020-10-25 -45.582395 6 days 00:00:00"
      ]
     },
     "execution_count": 24,
     "metadata": {},
     "output_type": "execute_result"
    }
   ],
   "source": [
    "summary-summary.shift(1)"
   ]
  },
  {
   "cell_type": "code",
   "execution_count": 25,
   "metadata": {},
   "outputs": [
    {
     "data": {
      "image/png": "[encoded data removed]",
      "text/plain": [
       "<Figure size 720x288 with 1 Axes>"
      ]
     },
     "metadata": {
      "needs_background": "light"
     },
     "output_type": "display_data"
    }
   ],
   "source": [
    "plt.figure(figsize=(10, 4))\n",
    "ax = plt.gca()\n",
    "c.plot(alpha=0.5, style='-',ax=ax)\n",
    "c.resample('W').mean().plot(style=':',ax=ax)   ## Mean taken weekly\n",
    "c.asfreq('W').plot(style='--',ax=ax);        \n",
    "plt.legend(['Original', 'Resample (Mean)', 'asfreq'],\n",
    "loc='upper left',fontsize=10);\n",
    "plt.title('Daily PM2.5_avg Level', fontsize=20)\n",
    "plt.ylabel('PM2.5_avg level',fontsize=20)\n",
    "plt.xlabel('Date',fontsize=20)\n",
    "plt.show()"
   ]
  },
  {
   "cell_type": "markdown",
   "metadata": {},
   "source": [
    "### Let's Decompose our data into different components and observe their plots"
   ]
  },
  {
   "cell_type": "code",
   "execution_count": 26,
   "metadata": {},
   "outputs": [],
   "source": [
    "b.drop(['new'],axis=1,inplace=True)"
   ]
  },
  {
   "cell_type": "code",
   "execution_count": 27,
   "metadata": {},
   "outputs": [],
   "source": [
    "from statsmodels.tsa.seasonal import seasonal_decompose\n",
    "decomposition = seasonal_decompose(b, model='multiplicative', period =7)\n",
    "trend    = decomposition.trend\n",
    "seasonal = decomposition.seasonal\n",
    "residual = decomposition.resid"
   ]
  },
  {
   "cell_type": "code",
   "execution_count": 28,
   "metadata": {},
   "outputs": [
    {
     "data": {
      "text/plain": [
       "Time\n",
       "2020-09-22 12:00:00          NaN\n",
       "2020-09-23 00:00:00          NaN\n",
       "2020-09-23 12:00:00          NaN\n",
       "2020-09-24 00:00:00    64.190309\n",
       "2020-09-24 12:00:00    72.442071\n",
       "Freq: 12H, Name: trend, dtype: float64"
      ]
     },
     "execution_count": 28,
     "metadata": {},
     "output_type": "execute_result"
    }
   ],
   "source": [
    "trend.head()"
   ]
  },
  {
   "cell_type": "code",
   "execution_count": 29,
   "metadata": {},
   "outputs": [
    {
     "data": {
      "image/png": "[encoded data removed]",
      "text/plain": [
       "<Figure size 1440x1440 with 4 Axes>"
      ]
     },
     "metadata": {
      "needs_background": "light"
     },
     "output_type": "display_data"
    },
    {
     "data": {
      "text/plain": [
       "<Figure size 432x288 with 0 Axes>"
      ]
     },
     "metadata": {},
     "output_type": "display_data"
    }
   ],
   "source": [
    "\n",
    "plt.figure(figsize=(20,20))\n",
    "plt.subplot(411)\n",
    "plt.plot(b, label='Original', color=\"red\")\n",
    "plt.legend(loc='best')\n",
    "plt.ylabel('PM2.5_avg',fontsize=20)\n",
    "plt.xlabel('Date',fontsize=20)\n",
    "plt.subplot(412)\n",
    "plt.plot(trend, label='Trend', color=\"blue\")\n",
    "plt.legend(loc='best')\n",
    "plt.ylabel('PM2.5_avg',fontsize=20)\n",
    "plt.xlabel('Date',fontsize=20)\n",
    "plt.subplot(413)\n",
    "plt.plot(seasonal,label='Seasonality', color=\"blue\")\n",
    "plt.legend(loc='best')\n",
    "plt.subplot(414)\n",
    "plt.plot(residual, label='Residuals', color=\"blue\")\n",
    "plt.legend(loc='best')\n",
    "plt.title('Decomposition of PM2.5_avg Time Series', fontsize=20)\n",
    "plt.show()\n",
    "\n",
    "plt.tight_layout()"
   ]
  },
  {
   "cell_type": "markdown",
   "metadata": {},
   "source": [
    "## The plot shows that the data has both trend & seasonality. That means it is not stationary."
   ]
  },
  {
   "cell_type": "code",
   "execution_count": 30,
   "metadata": {},
   "outputs": [
    {
     "name": "stdout",
     "output_type": "stream",
     "text": [
      "p-value: 0.6435080097718051\n"
     ]
    }
   ],
   "source": [
    "from statsmodels.tsa.stattools import adfuller\n",
    "print(\"p-value:\", adfuller(trend.dropna())[1])"
   ]
  },
  {
   "cell_type": "code",
   "execution_count": 31,
   "metadata": {},
   "outputs": [],
   "source": [
    "#Here we have done 90/10 split of our data \n",
    "train_data=b[:datetime(2020,10,18)]\n",
    "test_data=b[datetime(2020,10,19):datetime(2020,10,21)]"
   ]
  },
  {
   "cell_type": "code",
   "execution_count": 32,
   "metadata": {},
   "outputs": [],
   "source": [
    "data_d = b.diff().dropna()"
   ]
  },
  {
   "cell_type": "code",
   "execution_count": 33,
   "metadata": {},
   "outputs": [
    {
     "data": {
      "text/plain": [
       "<matplotlib.axes._subplots.AxesSubplot at 0x2f375f556d0>"
      ]
     },
     "execution_count": 33,
     "metadata": {},
     "output_type": "execute_result"
    },
    {
     "data": {
      "image/png": "[encoded data removed]",
      "text/plain": [
       "<Figure size 432x288 with 1 Axes>"
      ]
     },
     "metadata": {
      "needs_background": "light"
     },
     "output_type": "display_data"
    }
   ],
   "source": [
    "data_d.plot()"
   ]
  },
  {
   "cell_type": "code",
   "execution_count": 34,
   "metadata": {},
   "outputs": [
    {
     "data": {
      "text/plain": [
       "(58, 1)"
      ]
     },
     "execution_count": 34,
     "metadata": {},
     "output_type": "execute_result"
    }
   ],
   "source": [
    "data_d.shape"
   ]
  },
  {
   "cell_type": "code",
   "execution_count": 35,
   "metadata": {},
   "outputs": [
    {
     "data": {
      "text/html": [
       "<div>\n",
       "<style scoped>\n",
       "    .dataframe tbody tr th:only-of-type {\n",
       "        vertical-align: middle;\n",
       "    }\n",
       "\n",
       "    .dataframe tbody tr th {\n",
       "        vertical-align: top;\n",
       "    }\n",
       "\n",
       "    .dataframe thead th {\n",
       "        text-align: right;\n",
       "    }\n",
       "</style>\n",
       "<table border=\"1\" class=\"dataframe\">\n",
       "  <thead>\n",
       "    <tr style=\"text-align: right;\">\n",
       "      <th></th>\n",
       "      <th>PM2.5_avg</th>\n",
       "    </tr>\n",
       "    <tr>\n",
       "      <th>Time</th>\n",
       "      <th></th>\n",
       "    </tr>\n",
       "  </thead>\n",
       "  <tbody>\n",
       "    <tr>\n",
       "      <th>2020-09-23 00:00:00</th>\n",
       "      <td>-31.836765</td>\n",
       "    </tr>\n",
       "    <tr>\n",
       "      <th>2020-09-23 12:00:00</th>\n",
       "      <td>-11.513866</td>\n",
       "    </tr>\n",
       "  </tbody>\n",
       "</table>\n",
       "</div>"
      ],
      "text/plain": [
       "                     PM2.5_avg\n",
       "Time                          \n",
       "2020-09-23 00:00:00 -31.836765\n",
       "2020-09-23 12:00:00 -11.513866"
      ]
     },
     "execution_count": 35,
     "metadata": {},
     "output_type": "execute_result"
    }
   ],
   "source": [
    "data_d.head(2)"
   ]
  },
  {
   "cell_type": "code",
   "execution_count": 36,
   "metadata": {},
   "outputs": [],
   "source": [
    "from statsmodels.graphics.tsaplots import plot_acf, plot_pacf\n",
    "from statsmodels.tsa.arima_model import ARIMA"
   ]
  },
  {
   "cell_type": "markdown",
   "metadata": {},
   "source": [
    "# Differenced Version with d=1\n"
   ]
  },
  {
   "cell_type": "code",
   "execution_count": 37,
   "metadata": {},
   "outputs": [
    {
     "name": "stdout",
     "output_type": "stream",
     "text": [
      "p-value: 1.0422639955747807e-08\n"
     ]
    }
   ],
   "source": [
    "print(\"p-value:\", adfuller(b['PM2.5_avg'].diff().dropna())[1])"
   ]
  },
  {
   "cell_type": "code",
   "execution_count": 38,
   "metadata": {},
   "outputs": [
    {
     "data": {
      "image/png": "[encoded data removed]",
      "text/plain": [
       "<Figure size 432x288 with 1 Axes>"
      ]
     },
     "metadata": {
      "needs_background": "light"
     },
     "output_type": "display_data"
    }
   ],
   "source": [
    "fig = plot_acf(b['PM2.5_avg'].diff().dropna(), \n",
    "               title=\"ACF on Differenced Series\") "
   ]
  },
  {
   "cell_type": "code",
   "execution_count": 39,
   "metadata": {},
   "outputs": [
    {
     "data": {
      "image/png": "[encoded data removed]",
      "text/plain": [
       "<Figure size 432x288 with 1 Axes>"
      ]
     },
     "metadata": {
      "needs_background": "light"
     },
     "output_type": "display_data"
    }
   ],
   "source": [
    "fig = plot_pacf(b['PM2.5_avg'].diff().dropna(), \n",
    "               title=\"PACF on Differenced Series\") "
   ]
  },
  {
   "cell_type": "markdown",
   "metadata": {},
   "source": [
    "#### It can be seen p=2 from the pacf plot and we have to keep one of p or q=1 so lets try q with different values and we get best results for q=1"
   ]
  },
  {
   "cell_type": "code",
   "execution_count": 61,
   "metadata": {},
   "outputs": [
    {
     "data": {
      "text/html": [
       "<table class=\"simpletable\">\n",
       "<caption>ARIMA Model Results</caption>\n",
       "<tr>\n",
       "  <th>Dep. Variable:</th>    <td>D.PM2.5_avg</td>   <th>  No. Observations:  </th>    <td>51</td>   \n",
       "</tr>\n",
       "<tr>\n",
       "  <th>Model:</th>          <td>ARIMA(2, 1, 1)</td>  <th>  Log Likelihood     </th> <td>-216.546</td>\n",
       "</tr>\n",
       "<tr>\n",
       "  <th>Method:</th>             <td>css-mle</td>     <th>  S.D. of innovations</th>  <td>16.269</td> \n",
       "</tr>\n",
       "<tr>\n",
       "  <th>Date:</th>          <td>Wed, 18 Nov 2020</td> <th>  AIC                </th>  <td>443.092</td>\n",
       "</tr>\n",
       "<tr>\n",
       "  <th>Time:</th>              <td>18:27:31</td>     <th>  BIC                </th>  <td>452.751</td>\n",
       "</tr>\n",
       "<tr>\n",
       "  <th>Sample:</th>           <td>09-23-2020</td>    <th>  HQIC               </th>  <td>446.783</td>\n",
       "</tr>\n",
       "<tr>\n",
       "  <th></th>                 <td>- 10-18-2020</td>   <th>                     </th>     <td> </td>   \n",
       "</tr>\n",
       "</table>\n",
       "<table class=\"simpletable\">\n",
       "<tr>\n",
       "          <td></td>             <th>coef</th>     <th>std err</th>      <th>z</th>      <th>P>|z|</th>  <th>[0.025</th>    <th>0.975]</th>  \n",
       "</tr>\n",
       "<tr>\n",
       "  <th>const</th>             <td>    4.4538</td> <td>    0.276</td> <td>   16.152</td> <td> 0.000</td> <td>    3.913</td> <td>    4.994</td>\n",
       "</tr>\n",
       "<tr>\n",
       "  <th>ar.L1.D.PM2.5_avg</th> <td>    0.9501</td> <td>    0.123</td> <td>    7.694</td> <td> 0.000</td> <td>    0.708</td> <td>    1.192</td>\n",
       "</tr>\n",
       "<tr>\n",
       "  <th>ar.L2.D.PM2.5_avg</th> <td>   -0.5028</td> <td>    0.121</td> <td>   -4.147</td> <td> 0.000</td> <td>   -0.740</td> <td>   -0.265</td>\n",
       "</tr>\n",
       "<tr>\n",
       "  <th>ma.L1.D.PM2.5_avg</th> <td>   -1.0000</td> <td>    0.074</td> <td>  -13.430</td> <td> 0.000</td> <td>   -1.146</td> <td>   -0.854</td>\n",
       "</tr>\n",
       "</table>\n",
       "<table class=\"simpletable\">\n",
       "<caption>Roots</caption>\n",
       "<tr>\n",
       "    <td></td>   <th>            Real</th>  <th>         Imaginary</th> <th>         Modulus</th>  <th>        Frequency</th>\n",
       "</tr>\n",
       "<tr>\n",
       "  <th>AR.1</th> <td>           0.9448</td> <td>          -1.0470j</td> <td>           1.4103</td> <td>          -0.1332</td>\n",
       "</tr>\n",
       "<tr>\n",
       "  <th>AR.2</th> <td>           0.9448</td> <td>          +1.0470j</td> <td>           1.4103</td> <td>           0.1332</td>\n",
       "</tr>\n",
       "<tr>\n",
       "  <th>MA.1</th> <td>           1.0000</td> <td>          +0.0000j</td> <td>           1.0000</td> <td>           0.0000</td>\n",
       "</tr>\n",
       "</table>"
      ],
      "text/plain": [
       "<class 'statsmodels.iolib.summary.Summary'>\n",
       "\"\"\"\n",
       "                             ARIMA Model Results                              \n",
       "==============================================================================\n",
       "Dep. Variable:            D.PM2.5_avg   No. Observations:                   51\n",
       "Model:                 ARIMA(2, 1, 1)   Log Likelihood                -216.546\n",
       "Method:                       css-mle   S.D. of innovations             16.269\n",
       "Date:                Wed, 18 Nov 2020   AIC                            443.092\n",
       "Time:                        18:27:31   BIC                            452.751\n",
       "Sample:                    09-23-2020   HQIC                           446.783\n",
       "                         - 10-18-2020                                         \n",
       "=====================================================================================\n",
       "                        coef    std err          z      P>|z|      [0.025      0.975]\n",
       "-------------------------------------------------------------------------------------\n",
       "const                 4.4538      0.276     16.152      0.000       3.913       4.994\n",
       "ar.L1.D.PM2.5_avg     0.9501      0.123      7.694      0.000       0.708       1.192\n",
       "ar.L2.D.PM2.5_avg    -0.5028      0.121     -4.147      0.000      -0.740      -0.265\n",
       "ma.L1.D.PM2.5_avg    -1.0000      0.074    -13.430      0.000      -1.146      -0.854\n",
       "                                    Roots                                    \n",
       "=============================================================================\n",
       "                  Real          Imaginary           Modulus         Frequency\n",
       "-----------------------------------------------------------------------------\n",
       "AR.1            0.9448           -1.0470j            1.4103           -0.1332\n",
       "AR.2            0.9448           +1.0470j            1.4103            0.1332\n",
       "MA.1            1.0000           +0.0000j            1.0000            0.0000\n",
       "-----------------------------------------------------------------------------\n",
       "\"\"\""
      ]
     },
     "execution_count": 61,
     "metadata": {},
     "output_type": "execute_result"
    }
   ],
   "source": [
    "model3 = ARIMA(train_data['PM2.5_avg'], order=(2,1,1))\n",
    "results3 = model3.fit()\n",
    "results3.summary()"
   ]
  },
  {
   "cell_type": "code",
   "execution_count": 62,
   "metadata": {},
   "outputs": [
    {
     "data": {
      "text/html": [
       "<div>\n",
       "<style scoped>\n",
       "    .dataframe tbody tr th:only-of-type {\n",
       "        vertical-align: middle;\n",
       "    }\n",
       "\n",
       "    .dataframe tbody tr th {\n",
       "        vertical-align: top;\n",
       "    }\n",
       "\n",
       "    .dataframe thead th {\n",
       "        text-align: right;\n",
       "    }\n",
       "</style>\n",
       "<table border=\"1\" class=\"dataframe\">\n",
       "  <thead>\n",
       "    <tr style=\"text-align: right;\">\n",
       "      <th></th>\n",
       "      <th>PM2.5_avg</th>\n",
       "    </tr>\n",
       "    <tr>\n",
       "      <th>Time</th>\n",
       "      <th></th>\n",
       "    </tr>\n",
       "  </thead>\n",
       "  <tbody>\n",
       "    <tr>\n",
       "      <th>2020-10-19 00:00:00</th>\n",
       "      <td>-45.304217</td>\n",
       "    </tr>\n",
       "    <tr>\n",
       "      <th>2020-10-19 12:00:00</th>\n",
       "      <td>-44.581203</td>\n",
       "    </tr>\n",
       "    <tr>\n",
       "      <th>2020-10-20 00:00:00</th>\n",
       "      <td>-76.340031</td>\n",
       "    </tr>\n",
       "    <tr>\n",
       "      <th>2020-10-20 12:00:00</th>\n",
       "      <td>-81.396188</td>\n",
       "    </tr>\n",
       "    <tr>\n",
       "      <th>2020-10-21 00:00:00</th>\n",
       "      <td>-53.635508</td>\n",
       "    </tr>\n",
       "  </tbody>\n",
       "</table>\n",
       "</div>"
      ],
      "text/plain": [
       "                     PM2.5_avg\n",
       "Time                          \n",
       "2020-10-19 00:00:00 -45.304217\n",
       "2020-10-19 12:00:00 -44.581203\n",
       "2020-10-20 00:00:00 -76.340031\n",
       "2020-10-20 12:00:00 -81.396188\n",
       "2020-10-21 00:00:00 -53.635508"
      ]
     },
     "execution_count": 62,
     "metadata": {},
     "output_type": "execute_result"
    }
   ],
   "source": [
    "fcast3=results3.forecast(5)\n",
    "fcast3=pd.DataFrame({\"Forecast\": fcast3[0]},index=test_data.index)\n",
    "residuals3 = test_data - fcast3.values\n",
    "residuals3.head()"
   ]
  },
  {
   "cell_type": "code",
   "execution_count": 63,
   "metadata": {},
   "outputs": [
    {
     "data": {
      "text/html": [
       "<div>\n",
       "<style scoped>\n",
       "    .dataframe tbody tr th:only-of-type {\n",
       "        vertical-align: middle;\n",
       "    }\n",
       "\n",
       "    .dataframe tbody tr th {\n",
       "        vertical-align: top;\n",
       "    }\n",
       "\n",
       "    .dataframe thead th {\n",
       "        text-align: right;\n",
       "    }\n",
       "</style>\n",
       "<table border=\"1\" class=\"dataframe\">\n",
       "  <thead>\n",
       "    <tr style=\"text-align: right;\">\n",
       "      <th></th>\n",
       "      <th>Forecast</th>\n",
       "    </tr>\n",
       "    <tr>\n",
       "      <th>Time</th>\n",
       "      <th></th>\n",
       "    </tr>\n",
       "  </thead>\n",
       "  <tbody>\n",
       "    <tr>\n",
       "      <th>2020-10-19 00:00:00</th>\n",
       "      <td>277.068082</td>\n",
       "    </tr>\n",
       "    <tr>\n",
       "      <th>2020-10-19 12:00:00</th>\n",
       "      <td>286.433545</td>\n",
       "    </tr>\n",
       "    <tr>\n",
       "      <th>2020-10-20 00:00:00</th>\n",
       "      <td>294.623902</td>\n",
       "    </tr>\n",
       "    <tr>\n",
       "      <th>2020-10-20 12:00:00</th>\n",
       "      <td>300.158146</td>\n",
       "    </tr>\n",
       "    <tr>\n",
       "      <th>2020-10-21 00:00:00</th>\n",
       "      <td>303.759688</td>\n",
       "    </tr>\n",
       "  </tbody>\n",
       "</table>\n",
       "</div>"
      ],
      "text/plain": [
       "                       Forecast\n",
       "Time                           \n",
       "2020-10-19 00:00:00  277.068082\n",
       "2020-10-19 12:00:00  286.433545\n",
       "2020-10-20 00:00:00  294.623902\n",
       "2020-10-20 12:00:00  300.158146\n",
       "2020-10-21 00:00:00  303.759688"
      ]
     },
     "execution_count": 63,
     "metadata": {},
     "output_type": "execute_result"
    }
   ],
   "source": [
    "fcast3"
   ]
  },
  {
   "cell_type": "code",
   "execution_count": 64,
   "metadata": {},
   "outputs": [
    {
     "data": {
      "text/plain": [
       "Text(0, 0.5, 'Error')"
      ]
     },
     "execution_count": 64,
     "metadata": {},
     "output_type": "execute_result"
    },
    {
     "data": {
      "image/png": "[encoded data removed]",
      "text/plain": [
       "<Figure size 720x288 with 1 Axes>"
      ]
     },
     "metadata": {
      "needs_background": "light"
     },
     "output_type": "display_data"
    }
   ],
   "source": [
    "plt.figure(figsize=(10,4))\n",
    "plt.plot(residuals3)\n",
    "plt.axhline(0, linestyle='--', color='k')\n",
    "plt.title('Residuals from ARIMA (2,1,1) Model', fontsize=20)\n",
    "plt.ylabel('Error', fontsize=16)"
   ]
  },
  {
   "cell_type": "code",
   "execution_count": 44,
   "metadata": {},
   "outputs": [
    {
     "data": {
      "image/png": "[encoded data removed]",
      "text/plain": [
       "<Figure size 432x288 with 1 Axes>"
      ]
     },
     "metadata": {
      "needs_background": "light"
     },
     "output_type": "display_data"
    }
   ],
   "source": [
    "results3.plot_predict(1, 58)\n",
    "plt.show()"
   ]
  },
  {
   "cell_type": "code",
   "execution_count": 45,
   "metadata": {},
   "outputs": [
    {
     "name": "stdout",
     "output_type": "stream",
     "text": [
      "Mean Absolute Percent Error: PM2.5_avg    0.26321\n",
      "dtype: float64\n"
     ]
    }
   ],
   "source": [
    "print('Mean Absolute Percent Error:', round(np.mean(abs(residuals3/test_data)),6))"
   ]
  },
  {
   "cell_type": "code",
   "execution_count": 46,
   "metadata": {},
   "outputs": [
    {
     "name": "stdout",
     "output_type": "stream",
     "text": [
      "Root Mean Squared Error: PM2.5_avg    62.241245\n",
      "dtype: float64\n"
     ]
    }
   ],
   "source": [
    "print('Root Mean Squared Error:', np.sqrt(np.mean(residuals3**2)))"
   ]
  },
  {
   "cell_type": "markdown",
   "metadata": {},
   "source": [
    "## Finally we fit our data in Seasonal ARIMA model to get  the better forecasting"
   ]
  },
  {
   "cell_type": "markdown",
   "metadata": {},
   "source": [
    "### Here we use auto arima to select the parameters for the SARIMA model"
   ]
  },
  {
   "cell_type": "code",
   "execution_count": 47,
   "metadata": {},
   "outputs": [],
   "source": [
    "import pmdarima"
   ]
  },
  {
   "cell_type": "code",
   "execution_count": 48,
   "metadata": {},
   "outputs": [
    {
     "name": "stdout",
     "output_type": "stream",
     "text": [
      "Performing stepwise search to minimize aic\n",
      " ARIMA(1,1,1)(1,0,1)[7] intercept   : AIC=460.539, Time=0.77 sec\n",
      " ARIMA(0,1,0)(0,0,0)[7] intercept   : AIC=458.720, Time=0.03 sec\n",
      " ARIMA(1,1,0)(1,0,0)[7] intercept   : AIC=459.011, Time=0.28 sec\n",
      " ARIMA(0,1,1)(0,0,1)[7] intercept   : AIC=457.078, Time=0.49 sec\n",
      " ARIMA(0,1,0)(0,0,0)[7]             : AIC=458.237, Time=0.02 sec\n",
      " ARIMA(0,1,1)(0,0,0)[7] intercept   : AIC=455.886, Time=0.12 sec\n",
      " ARIMA(0,1,1)(1,0,0)[7] intercept   : AIC=456.936, Time=0.39 sec\n",
      " ARIMA(0,1,1)(1,0,1)[7] intercept   : AIC=458.788, Time=0.64 sec\n",
      " ARIMA(1,1,1)(0,0,0)[7] intercept   : AIC=457.770, Time=0.20 sec\n",
      " ARIMA(0,1,2)(0,0,0)[7] intercept   : AIC=inf, Time=0.22 sec\n",
      " ARIMA(1,1,0)(0,0,0)[7] intercept   : AIC=457.791, Time=0.05 sec\n",
      " ARIMA(1,1,2)(0,0,0)[7] intercept   : AIC=inf, Time=0.77 sec\n",
      " ARIMA(0,1,1)(0,0,0)[7]             : AIC=454.699, Time=0.10 sec\n",
      " ARIMA(0,1,1)(1,0,0)[7]             : AIC=455.543, Time=0.17 sec\n",
      " ARIMA(0,1,1)(0,0,1)[7]             : AIC=455.732, Time=0.21 sec\n",
      " ARIMA(0,1,1)(1,0,1)[7]             : AIC=457.335, Time=0.46 sec\n",
      " ARIMA(1,1,1)(0,0,0)[7]             : AIC=456.661, Time=0.15 sec\n",
      " ARIMA(0,1,2)(0,0,0)[7]             : AIC=456.432, Time=0.13 sec\n",
      " ARIMA(1,1,0)(0,0,0)[7]             : AIC=456.575, Time=0.06 sec\n",
      " ARIMA(1,1,2)(0,0,0)[7]             : AIC=455.828, Time=0.24 sec\n",
      "\n",
      "Best model:  ARIMA(0,1,1)(0,0,0)[7]          \n",
      "Total fit time: 5.588 seconds\n"
     ]
    }
   ],
   "source": [
    "from pmdarima import auto_arima\n",
    "pm_arima = auto_arima(train_data['PM2.5_avg'], test = 'adf'\n",
    "                      , start_p=1, start_q=1, m = 7,\n",
    "                      stepwise=True, trace = True, \n",
    "                      suppress_warnings=True,\n",
    "                      error_action='ignore', seasonal = True)"
   ]
  },
  {
   "cell_type": "markdown",
   "metadata": {},
   "source": [
    "### Fit the SARIMA Model\n"
   ]
  },
  {
   "cell_type": "code",
   "execution_count": 49,
   "metadata": {},
   "outputs": [],
   "source": [
    "my_order = (0,1,1)\n",
    "my_seasonal_order = (0, 0, 0, 7)\n",
    "# define model\n",
    "model4 = SARIMAX(train_data, order=my_order, seasonal_order=my_seasonal_order)"
   ]
  },
  {
   "cell_type": "code",
   "execution_count": 50,
   "metadata": {},
   "outputs": [
    {
     "name": "stdout",
     "output_type": "stream",
     "text": [
      "Model Fitting Time: 0.18090200424194336\n"
     ]
    }
   ],
   "source": [
    "#fit the model\n",
    "start = time()\n",
    "model4_fit = model4.fit()\n",
    "end = time()\n",
    "print('Model Fitting Time:', end - start)"
   ]
  },
  {
   "cell_type": "code",
   "execution_count": 51,
   "metadata": {},
   "outputs": [
    {
     "name": "stdout",
     "output_type": "stream",
     "text": [
      "                               SARIMAX Results                                \n",
      "==============================================================================\n",
      "Dep. Variable:              PM2.5_avg   No. Observations:                   52\n",
      "Model:               SARIMAX(0, 1, 1)   Log Likelihood                -225.350\n",
      "Date:                Wed, 18 Nov 2020   AIC                            454.699\n",
      "Time:                        17:46:58   BIC                            458.563\n",
      "Sample:                    09-22-2020   HQIC                           456.176\n",
      "                         - 10-18-2020                                         \n",
      "Covariance Type:                  opg                                         \n",
      "==============================================================================\n",
      "                 coef    std err          z      P>|z|      [0.025      0.975]\n",
      "------------------------------------------------------------------------------\n",
      "ma.L1          0.3549      0.133      2.677      0.007       0.095       0.615\n",
      "sigma2       402.0953     74.114      5.425      0.000     256.835     547.356\n",
      "===================================================================================\n",
      "Ljung-Box (Q):                       43.35   Jarque-Bera (JB):                 1.90\n",
      "Prob(Q):                              0.33   Prob(JB):                         0.39\n",
      "Heteroskedasticity (H):               0.75   Skew:                             0.47\n",
      "Prob(H) (two-sided):                  0.57   Kurtosis:                         3.07\n",
      "===================================================================================\n",
      "\n",
      "Warnings:\n",
      "[1] Covariance matrix calculated using the outer product of gradients (complex-step).\n"
     ]
    }
   ],
   "source": [
    "#summary of the model\n",
    "print(model4_fit.summary())"
   ]
  },
  {
   "cell_type": "code",
   "execution_count": 52,
   "metadata": {},
   "outputs": [
    {
     "data": {
      "text/html": [
       "<div>\n",
       "<style scoped>\n",
       "    .dataframe tbody tr th:only-of-type {\n",
       "        vertical-align: middle;\n",
       "    }\n",
       "\n",
       "    .dataframe tbody tr th {\n",
       "        vertical-align: top;\n",
       "    }\n",
       "\n",
       "    .dataframe thead th {\n",
       "        text-align: right;\n",
       "    }\n",
       "</style>\n",
       "<table border=\"1\" class=\"dataframe\">\n",
       "  <thead>\n",
       "    <tr style=\"text-align: right;\">\n",
       "      <th></th>\n",
       "      <th>PM2.5_avg</th>\n",
       "    </tr>\n",
       "    <tr>\n",
       "      <th>Time</th>\n",
       "      <th></th>\n",
       "    </tr>\n",
       "  </thead>\n",
       "  <tbody>\n",
       "    <tr>\n",
       "      <th>2020-10-19 00:00:00</th>\n",
       "      <td>-37.751205</td>\n",
       "    </tr>\n",
       "    <tr>\n",
       "      <th>2020-10-19 12:00:00</th>\n",
       "      <td>-27.662729</td>\n",
       "    </tr>\n",
       "    <tr>\n",
       "      <th>2020-10-20 00:00:00</th>\n",
       "      <td>-51.231200</td>\n",
       "    </tr>\n",
       "    <tr>\n",
       "      <th>2020-10-20 12:00:00</th>\n",
       "      <td>-50.753113</td>\n",
       "    </tr>\n",
       "    <tr>\n",
       "      <th>2020-10-21 00:00:00</th>\n",
       "      <td>-19.390891</td>\n",
       "    </tr>\n",
       "  </tbody>\n",
       "</table>\n",
       "</div>"
      ],
      "text/plain": [
       "                     PM2.5_avg\n",
       "Time                          \n",
       "2020-10-19 00:00:00 -37.751205\n",
       "2020-10-19 12:00:00 -27.662729\n",
       "2020-10-20 00:00:00 -51.231200\n",
       "2020-10-20 12:00:00 -50.753113\n",
       "2020-10-21 00:00:00 -19.390891"
      ]
     },
     "execution_count": 52,
     "metadata": {},
     "output_type": "execute_result"
    }
   ],
   "source": [
    "fcast4=model4_fit.forecast(5)\n",
    "fcast4=pd.DataFrame({\"Forecast\": fcast4[0]},index=test_data.index)\n",
    "residuals4 = test_data - fcast4.values\n",
    "residuals4.head()"
   ]
  },
  {
   "cell_type": "code",
   "execution_count": 53,
   "metadata": {},
   "outputs": [
    {
     "data": {
      "text/plain": [
       "Text(0, 0.5, 'Error')"
      ]
     },
     "execution_count": 53,
     "metadata": {},
     "output_type": "execute_result"
    },
    {
     "data": {
      "image/png": "[encoded data removed]",
      "text/plain": [
       "<Figure size 720x288 with 1 Axes>"
      ]
     },
     "metadata": {
      "needs_background": "light"
     },
     "output_type": "display_data"
    }
   ],
   "source": [
    "plt.figure(figsize=(10,4))\n",
    "plt.plot(residuals3)\n",
    "plt.axhline(0, linestyle='--', color='k')\n",
    "plt.title('Residuals from SARIMA (0,1,1)x(0,0,0,7) Model', fontsize=20)\n",
    "plt.ylabel('Error', fontsize=16)"
   ]
  },
  {
   "cell_type": "code",
   "execution_count": 54,
   "metadata": {},
   "outputs": [
    {
     "name": "stdout",
     "output_type": "stream",
     "text": [
      "Mean Absolute Percent Error: PM2.5_avg    0.1643\n",
      "dtype: float64\n"
     ]
    }
   ],
   "source": [
    "print('Mean Absolute Percent Error:', round(np.mean(abs(residuals4/test_data)),5))"
   ]
  },
  {
   "cell_type": "code",
   "execution_count": 55,
   "metadata": {},
   "outputs": [
    {
     "name": "stdout",
     "output_type": "stream",
     "text": [
      "Root Mean Squared Error: PM2.5_avg    39.412945\n",
      "dtype: float64\n"
     ]
    }
   ],
   "source": [
    "print('Root Mean Squared Error:', np.sqrt(np.mean(residuals4**2)))"
   ]
  },
  {
   "cell_type": "markdown",
   "metadata": {},
   "source": [
    "## So as we can observe we are getting 16.43% MAPE in our final model, and every P>|z| is very small in model summary "
   ]
  },
  {
   "cell_type": "markdown",
   "metadata": {},
   "source": [
    " <hr>"
   ]
  },
  {
   "cell_type": "markdown",
   "metadata": {},
   "source": [
    "<hr>"
   ]
  },
  {
   "cell_type": "markdown",
   "metadata": {},
   "source": [
    "<h2><center>We have other notebooks too for different metro cities but this one is the main and other modelling notebook have similar method of modeling</center></h2>\n",
    "<h2><center>One of the things we could have done in addition is that we could have created the models for other pollutants too but that would have resulted in too much too handle </center></h2>\n",
    "<h2><center>We have also tried to make the timeseries daywise but this one(resampled at 12 Hrs) gave us better accuracy</center></h2>"
   ]
  }
 ],
 "metadata": {
  "kernelspec": {
   "display_name": "Python 3",
   "language": "python",
   "name": "python3"
  },
  "language_info": {
   "codemirror_mode": {
    "name": "ipython",
    "version": 3
   },
   "file_extension": ".py",
   "mimetype": "text/x-python",
   "name": "python",
   "nbconvert_exporter": "python",
   "pygments_lexer": "ipython3",
   "version": "3.8.3"
  }
 },
 "nbformat": 4,
 "nbformat_minor": 4
}
